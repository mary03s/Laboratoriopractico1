{
 "cells": [
  {
   "cell_type": "markdown",
   "id": "81f87ce6-a3a2-4671-bf29-4122118adcd5",
   "metadata": {},
   "source": [
    "# Data Science Tools and Ecosystem\n",
    "## Autor\n",
    "## Maria Fernanda Salazar Hinojosa"
   ]
  },
  {
   "cell_type": "markdown",
   "id": "0ae8f29f-41e7-4916-a290-5d9441122565",
   "metadata": {},
   "source": [
    "En este cuaderno, se resumen las herramientas y ecosistemas de ciencia de datos."
   ]
  },
  {
   "cell_type": "markdown",
   "id": "3c302eb8-b3fd-4e7f-942d-d24135031a50",
   "metadata": {},
   "source": [
    "**Objetivos**\n",
    "- Listar lenguajes populares para Ciencia de Datos\n",
    "- Listar bibliotecas populares para la Ciencia de Datos\n",
    "- Listar Herramientas populares para la ciencia de Datos\n",
    "- Evaluar expresiones aritmeticas"
   ]
  },
  {
   "cell_type": "markdown",
   "id": "8a5bff81-e29e-41d7-b379-024cfd77b6f2",
   "metadata": {},
   "source": [
    "algunos de los lenguales populares que utilizan los cientificos de datos son:"
   ]
  },
  {
   "cell_type": "markdown",
   "id": "0891a906-3c94-41d3-9544-78d135ec72ce",
   "metadata": {},
   "source": [
    "1. Python\n",
    "2. JavaScript\n",
    "3. R"
   ]
  },
  {
   "cell_type": "markdown",
   "id": "f92ba96a-8cc4-412a-b9de-70e74dd78676",
   "metadata": {},
   "source": [
    "Algunas de las bibliotecas comúnmente utilizadas por los científicos de datos incluyen:\n",
    "1. Pandas\n",
    "2. Numpy\n",
    "3. Matplotlib"
   ]
  },
  {
   "cell_type": "markdown",
   "id": "e5fa59c5-4ae1-4a65-b244-2d9a08b7089c",
   "metadata": {},
   "source": [
    "| Herramientas de Ciencia de Datos       |\n",
    "|----------------------------------------|\n",
    "| Jupyter Notebook                       |\n",
    "| RStudio                                |\n",
    "| Apache Zeppelin                        |"
   ]
  },
  {
   "cell_type": "markdown",
   "id": "9578afc0-e3d6-4850-8c30-af79b6ea8896",
   "metadata": {},
   "source": [
    "A continuación, se presentan algunos ejemplos de evaluación de expresiones aritméticas en Python"
   ]
  },
  {
   "cell_type": "code",
   "execution_count": 4,
   "id": "59318ecc-ba14-4720-86cd-e0688e18ac23",
   "metadata": {},
   "outputs": [
    {
     "data": {
      "text/plain": [
       "17"
      ]
     },
     "execution_count": 4,
     "metadata": {},
     "output_type": "execute_result"
    }
   ],
   "source": [
    "#Esta es una expresion aritmetica simple para multiplicar y luego sumer enteros\n",
    "(3 * 4) + 5"
   ]
  },
  {
   "cell_type": "code",
   "execution_count": 5,
   "id": "7fac5c2c-8f09-4c23-9ce4-fc983911ea97",
   "metadata": {},
   "outputs": [
    {
     "data": {
      "text/plain": [
       "3.3333333333333335"
      ]
     },
     "execution_count": 5,
     "metadata": {},
     "output_type": "execute_result"
    }
   ],
   "source": [
    "#Esto convertirá 200 minutos a horas dividiendo por 60\n",
    "(200 / 60)"
   ]
  },
  {
   "cell_type": "markdown",
   "id": "00ef9db1-3403-46da-9ecc-47fbf45c747a",
   "metadata": {},
   "source": []
  }
 ],
 "metadata": {
  "kernelspec": {
   "display_name": "Python 3 (ipykernel)",
   "language": "python",
   "name": "python3"
  },
  "language_info": {
   "codemirror_mode": {
    "name": "ipython",
    "version": 3
   },
   "file_extension": ".py",
   "mimetype": "text/x-python",
   "name": "python",
   "nbconvert_exporter": "python",
   "pygments_lexer": "ipython3",
   "version": "3.13.0"
  }
 },
 "nbformat": 4,
 "nbformat_minor": 5
}
